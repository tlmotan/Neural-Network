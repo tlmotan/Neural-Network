{
 "cells": [
  {
   "cell_type": "code",
   "execution_count": 1,
   "id": "8e671c75-6b31-463f-a000-823c1639b36c",
   "metadata": {},
   "outputs": [],
   "source": [
    "import numpy as np"
   ]
  },
  {
   "cell_type": "code",
   "execution_count": 4,
   "id": "469109f9-8e9e-476a-9f81-a5aad43b8273",
   "metadata": {},
   "outputs": [
    {
     "data": {
      "text/plain": [
       "array([[1],\n",
       "       [0]])"
      ]
     },
     "execution_count": 4,
     "metadata": {},
     "output_type": "execute_result"
    }
   ],
   "source": [
    "# Return value of Sigmoid function with z as parameter\n",
    "def g(z):\n",
    "    return 1 / (1 + np.exp(-z))\n",
    "\n",
    "# Return 1 if value of output layer is more than or equal to 0.5, if not return 0\n",
    "def dense(a_in, W, b):\n",
    "    z = np.matmul(a_in, W) + b\n",
    "    a_out = g(z)\n",
    "    return (a_out >= 0.5).astype(int) \n",
    "\n",
    "# 1x3 Matrxi for input layer\n",
    "a_in = np.array([[1, 2],\n",
    "                 [-1, -2]])\n",
    "\n",
    "# 3x2 Matrix for Weights/Features\n",
    "W = np.array([[3],\n",
    "              [4]])\n",
    "\n",
    "#1x2 Matrix for Bias\n",
    "b = np.array([[9],\n",
    "              [1]])\n",
    "\n",
    "dense(a_in, W, b)"
   ]
  },
  {
   "cell_type": "code",
   "execution_count": null,
   "id": "13bf7e8b-39bb-442e-ba94-3fcb05cb8630",
   "metadata": {},
   "outputs": [],
   "source": []
  }
 ],
 "metadata": {
  "kernelspec": {
   "display_name": "Python 3 (ipykernel)",
   "language": "python",
   "name": "python3"
  },
  "language_info": {
   "codemirror_mode": {
    "name": "ipython",
    "version": 3
   },
   "file_extension": ".py",
   "mimetype": "text/x-python",
   "name": "python",
   "nbconvert_exporter": "python",
   "pygments_lexer": "ipython3",
   "version": "3.11.4"
  }
 },
 "nbformat": 4,
 "nbformat_minor": 5
}
